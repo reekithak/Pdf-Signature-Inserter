{
 "cells": [
  {
   "cell_type": "markdown",
   "id": "6c6bfaa6",
   "metadata": {},
   "source": [
    "# **Pdf - To insert Signature / Images**"
   ]
  },
  {
   "cell_type": "markdown",
   "id": "8d55cd97",
   "metadata": {},
   "source": [
    "- Image Space within a pdf\n",
    "- Identify Coordinates\n",
    "- Base here : X = 36x1 -> 500x1  (Finishing)\n",
    "- Base here : Y =  36y1 -> 739y1 (Finishing)\n",
    "- Finishing > Within the boundaries\n",
    "\n",
    "- ^ For all Pages ? ->  (Slight Differences , Adjustable )"
   ]
  },
  {
   "cell_type": "code",
   "execution_count": 13,
   "id": "bcd2ae32",
   "metadata": {
    "ExecuteTime": {
     "end_time": "2021-06-07T16:58:38.220338Z",
     "start_time": "2021-06-07T16:58:38.202282Z"
    }
   },
   "outputs": [],
   "source": [
    "import os\n",
    "import time\n",
    "import argparse\n",
    "import tempfile\n",
    "import PyPDF2\n",
    "import datetime\n",
    "from reportlab.pdfgen import canvas\n",
    "from PIL import Image\n",
    "from reportlab.lib.pagesizes import letter\n",
    "from reportlab.pdfgen.canvas import Canvas\n",
    "from reportlab.lib.utils import ImageReader\n",
    "import time"
   ]
  },
  {
   "cell_type": "code",
   "execution_count": 14,
   "id": "7c2e31f4",
   "metadata": {
    "ExecuteTime": {
     "end_time": "2021-06-07T16:58:38.797003Z",
     "start_time": "2021-06-07T16:58:38.786006Z"
    }
   },
   "outputs": [],
   "source": [
    "def clean_all():\n",
    "    try:\n",
    "        os.remove(r\"b_f1.pdf\")\n",
    "        os.remove(r\"b_f2.pdf\")\n",
    "        os.remove(r\"b_f3.pdf\")\n",
    "    except:\n",
    "        pass\n",
    "\n",
    "    try:\n",
    "\n",
    "        os.remove(r\"b1.pdf\")\n",
    "        os.remove(r\"b2.pdf\")\n",
    "        os.remove(r\"b3.pdf\")\n",
    "        os.remove(r\"b4.pdf\")\n",
    "    except:\n",
    "        pass\n",
    "    \n",
    "    try:\n",
    "        os.rename(r\"b_f4.pdf\",r\"signed_form.pdf\")\n",
    "    except:\n",
    "        pass\n",
    "clean_all()"
   ]
  },
  {
   "cell_type": "code",
   "execution_count": 15,
   "id": "03aec05d",
   "metadata": {
    "ExecuteTime": {
     "end_time": "2021-06-07T16:58:42.607359Z",
     "start_time": "2021-06-07T16:58:42.594346Z"
    }
   },
   "outputs": [],
   "source": [
    "def pass_pdf(pdf_fh,args,image,name,f_name):\n",
    "    sig_tmp_fh = None\n",
    "    pdf = PyPDF2.PdfFileReader(pdf_fh)\n",
    "    writer = PyPDF2.PdfFileWriter()\n",
    "    sig_tmp_filename = None\n",
    "    page_num, x1, y1, width, height = [int(a) for a in args.split(\"x\")]\n",
    "    page_num = [int(x) for x in str(page_num)]\n",
    "    k = 0\n",
    "    for i in range(0, pdf.getNumPages()):\n",
    "        page = pdf.getPage(i)\n",
    "        #print(page)\n",
    "        if i in page_num:\n",
    "            k = 1\n",
    "            #print(\"True\")\n",
    "            sig_tmp_filename = name\n",
    "            c = canvas.Canvas(sig_tmp_filename, pagesize=page.cropBox)\n",
    "            c.drawImage(image, x1, y1, width, height, mask='auto')\n",
    "            c.showPage()\n",
    "            c.save()\n",
    "            #print(\"Done-1\")\n",
    "            sig_tmp_fh = open(sig_tmp_filename, 'rb')\n",
    "            sig_tmp_pdf = PyPDF2.PdfFileReader(sig_tmp_fh)\n",
    "            #print(\"Done-2\")\n",
    "            sig_page = sig_tmp_pdf.getPage(0)\n",
    "            sig_page.mediaBox = page.mediaBox\n",
    "            page.mergePage(sig_page)\n",
    "            print(\"Finish\")\n",
    "            \n",
    "        writer.addPage(page)\n",
    "        if(k==1):\n",
    "            #print(\"added page\")\n",
    "            k=0\n",
    "    with open(f_name, 'wb') as fh:\n",
    "            writer.write(fh)            "
   ]
  },
  {
   "cell_type": "code",
   "execution_count": 16,
   "id": "1d793de2",
   "metadata": {
    "ExecuteTime": {
     "end_time": "2021-06-07T16:58:43.726204Z",
     "start_time": "2021-06-07T16:58:43.698169Z"
    }
   },
   "outputs": [],
   "source": [
    "#Reading images\n",
    "b_im = ImageReader(r\"buyer_sign.png\")\n",
    "s_im = ImageReader(r\"seller_sign.png\")"
   ]
  },
  {
   "cell_type": "markdown",
   "id": "36090a74",
   "metadata": {
    "ExecuteTime": {
     "end_time": "2021-06-07T16:41:04.315406Z",
     "start_time": "2021-06-07T16:41:04.303406Z"
    }
   },
   "source": [
    "IMAGE DETAILS\n",
    "\n",
    "\n",
    "**BUYER:**\n",
    "- 1st : - \"7x125x220x100x40\"\n",
    "- 2nd : - \"7x125x150x100x40\"\n",
    "\n",
    "**SELLER:**\n",
    "- 1st : - \"7x340x220x100x40\"\n",
    "- 2nd : - \"7x340x150x100x40\"\n",
    "- pdf_fh = open(r\"forms.pdf\", 'rb')\n"
   ]
  },
  {
   "cell_type": "code",
   "execution_count": 17,
   "id": "16a227d0",
   "metadata": {
    "ExecuteTime": {
     "end_time": "2021-06-07T16:58:44.905186Z",
     "start_time": "2021-06-07T16:58:44.899225Z"
    }
   },
   "outputs": [],
   "source": [
    "def run_signature():\n",
    "    #Buyer\n",
    "    #1st\n",
    "    pdf_fh = open(r\"forms.pdf\", 'rb')\n",
    "    args = \"7x125x220x100x40\"\n",
    "    pass_pdf(pdf_fh,args,b_im,\"b1.pdf\",\"b_f1.pdf\")   \n",
    "    #2nd\n",
    "    pdf_fh = open(r\"b_f1.pdf\", 'rb')\n",
    "    args = \"7x125x150x100x40\"\n",
    "    pass_pdf(pdf_fh,args,b_im,\"b2.pdf\",\"b_f2.pdf\")\n",
    "    \n",
    "    #seller\n",
    "    #1st\n",
    "    pdf_fh = open(r\"b_f2.pdf\", 'rb')\n",
    "    args = \"7x340x220x100x40\"\n",
    "    pass_pdf(pdf_fh,args,s_im,\"b3.pdf\",\"b_f3.pdf\")   \n",
    "    #2nd\n",
    "    pdf_fh = open(r\"b_f3.pdf\", 'rb')\n",
    "    args = \"7x340x150x100x40\"\n",
    "    pass_pdf(pdf_fh,args,s_im,\"b4.pdf\",\"b_f4.pdf\")\n",
    "    clean_all()\n",
    "    print(\"File saved as signed_form.pdf in the main directory :) \")"
   ]
  },
  {
   "cell_type": "code",
   "execution_count": 19,
   "id": "e9df7c42",
   "metadata": {
    "ExecuteTime": {
     "end_time": "2021-06-07T16:59:12.211200Z",
     "start_time": "2021-06-07T16:59:07.986225Z"
    }
   },
   "outputs": [
    {
     "name": "stdout",
     "output_type": "stream",
     "text": [
      "Finish\n",
      "Finish\n",
      "Finish\n",
      "Finish\n",
      "File saved as signed_form.pdf in the main directory :) \n"
     ]
    }
   ],
   "source": [
    "run_signature()\n",
    "clean_all()"
   ]
  },
  {
   "cell_type": "code",
   "execution_count": 18,
   "id": "f9134033",
   "metadata": {
    "ExecuteTime": {
     "end_time": "2021-06-07T16:58:46.333911Z",
     "start_time": "2021-06-07T16:58:46.314940Z"
    }
   },
   "outputs": [],
   "source": []
  },
  {
   "cell_type": "code",
   "execution_count": null,
   "id": "27767dfb",
   "metadata": {},
   "outputs": [],
   "source": []
  }
 ],
 "metadata": {
  "kernelspec": {
   "display_name": "Python 3",
   "language": "python",
   "name": "python3"
  },
  "language_info": {
   "codemirror_mode": {
    "name": "ipython",
    "version": 3
   },
   "file_extension": ".py",
   "mimetype": "text/x-python",
   "name": "python",
   "nbconvert_exporter": "python",
   "pygments_lexer": "ipython3",
   "version": "3.7.0"
  }
 },
 "nbformat": 4,
 "nbformat_minor": 5
}
